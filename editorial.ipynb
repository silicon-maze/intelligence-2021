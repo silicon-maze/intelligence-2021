{
 "cells": [
  {
   "cell_type": "markdown",
   "metadata": {},
   "source": [
    "# Editorial"
   ]
  },
  {
   "cell_type": "markdown",
   "metadata": {},
   "source": [
    "## Imports"
   ]
  },
  {
   "cell_type": "code",
   "execution_count": 1,
   "metadata": {},
   "outputs": [],
   "source": [
    "import pandas as pd\n",
    "import numpy as np\n",
    "import matplotlib.pyplot as plt\n",
    "import seaborn as sns\n",
    "from sklearn.model_selection import StratifiedKFold"
   ]
  },
  {
   "cell_type": "markdown",
   "metadata": {},
   "source": [
    "## Read training data"
   ]
  },
  {
   "cell_type": "code",
   "execution_count": 2,
   "metadata": {},
   "outputs": [
    {
     "data": {
      "text/html": [
       "<div>\n",
       "<style scoped>\n",
       "    .dataframe tbody tr th:only-of-type {\n",
       "        vertical-align: middle;\n",
       "    }\n",
       "\n",
       "    .dataframe tbody tr th {\n",
       "        vertical-align: top;\n",
       "    }\n",
       "\n",
       "    .dataframe thead th {\n",
       "        text-align: right;\n",
       "    }\n",
       "</style>\n",
       "<table border=\"1\" class=\"dataframe\">\n",
       "  <thead>\n",
       "    <tr style=\"text-align: right;\">\n",
       "      <th></th>\n",
       "      <th>Id</th>\n",
       "      <th>monthly_income</th>\n",
       "      <th>age</th>\n",
       "      <th>experience</th>\n",
       "      <th>years_employed</th>\n",
       "      <th>age_house</th>\n",
       "      <th>ineligible_for_funds</th>\n",
       "    </tr>\n",
       "  </thead>\n",
       "  <tbody>\n",
       "    <tr>\n",
       "      <th>count</th>\n",
       "      <td>189000.000000</td>\n",
       "      <td>171287.000000</td>\n",
       "      <td>189000.000000</td>\n",
       "      <td>189000.000000</td>\n",
       "      <td>189000.000000</td>\n",
       "      <td>171679.000000</td>\n",
       "      <td>189000.000000</td>\n",
       "    </tr>\n",
       "    <tr>\n",
       "      <th>mean</th>\n",
       "      <td>94500.500000</td>\n",
       "      <td>415841.471194</td>\n",
       "      <td>49.938423</td>\n",
       "      <td>11.148342</td>\n",
       "      <td>6.331286</td>\n",
       "      <td>11.999563</td>\n",
       "      <td>0.123000</td>\n",
       "    </tr>\n",
       "    <tr>\n",
       "      <th>std</th>\n",
       "      <td>54559.744776</td>\n",
       "      <td>239876.709190</td>\n",
       "      <td>17.065674</td>\n",
       "      <td>6.024009</td>\n",
       "      <td>3.647843</td>\n",
       "      <td>1.399825</td>\n",
       "      <td>0.328438</td>\n",
       "    </tr>\n",
       "    <tr>\n",
       "      <th>min</th>\n",
       "      <td>1.000000</td>\n",
       "      <td>815.733899</td>\n",
       "      <td>21.000000</td>\n",
       "      <td>0.000387</td>\n",
       "      <td>0.000000</td>\n",
       "      <td>10.000000</td>\n",
       "      <td>0.000000</td>\n",
       "    </tr>\n",
       "    <tr>\n",
       "      <th>25%</th>\n",
       "      <td>47250.750000</td>\n",
       "      <td>207600.489499</td>\n",
       "      <td>35.000000</td>\n",
       "      <td>5.996552</td>\n",
       "      <td>3.000000</td>\n",
       "      <td>11.000000</td>\n",
       "      <td>0.000000</td>\n",
       "    </tr>\n",
       "    <tr>\n",
       "      <th>50%</th>\n",
       "      <td>94500.500000</td>\n",
       "      <td>415772.673367</td>\n",
       "      <td>50.000000</td>\n",
       "      <td>11.145800</td>\n",
       "      <td>6.000000</td>\n",
       "      <td>12.000000</td>\n",
       "      <td>0.000000</td>\n",
       "    </tr>\n",
       "    <tr>\n",
       "      <th>75%</th>\n",
       "      <td>141750.250000</td>\n",
       "      <td>622848.639009</td>\n",
       "      <td>65.000000</td>\n",
       "      <td>16.347906</td>\n",
       "      <td>9.000000</td>\n",
       "      <td>13.000000</td>\n",
       "      <td>0.000000</td>\n",
       "    </tr>\n",
       "    <tr>\n",
       "      <th>max</th>\n",
       "      <td>189000.000000</td>\n",
       "      <td>833500.487477</td>\n",
       "      <td>79.000000</td>\n",
       "      <td>23.351739</td>\n",
       "      <td>14.000000</td>\n",
       "      <td>14.000000</td>\n",
       "      <td>1.000000</td>\n",
       "    </tr>\n",
       "  </tbody>\n",
       "</table>\n",
       "</div>"
      ],
      "text/plain": [
       "                  Id  monthly_income            age     experience  \\\n",
       "count  189000.000000   171287.000000  189000.000000  189000.000000   \n",
       "mean    94500.500000   415841.471194      49.938423      11.148342   \n",
       "std     54559.744776   239876.709190      17.065674       6.024009   \n",
       "min         1.000000      815.733899      21.000000       0.000387   \n",
       "25%     47250.750000   207600.489499      35.000000       5.996552   \n",
       "50%     94500.500000   415772.673367      50.000000      11.145800   \n",
       "75%    141750.250000   622848.639009      65.000000      16.347906   \n",
       "max    189000.000000   833500.487477      79.000000      23.351739   \n",
       "\n",
       "       years_employed      age_house  ineligible_for_funds  \n",
       "count   189000.000000  171679.000000         189000.000000  \n",
       "mean         6.331286      11.999563              0.123000  \n",
       "std          3.647843       1.399825              0.328438  \n",
       "min          0.000000      10.000000              0.000000  \n",
       "25%          3.000000      11.000000              0.000000  \n",
       "50%          6.000000      12.000000              0.000000  \n",
       "75%          9.000000      13.000000              0.000000  \n",
       "max         14.000000      14.000000              1.000000  "
      ]
     },
     "execution_count": 2,
     "metadata": {},
     "output_type": "execute_result"
    }
   ],
   "source": [
    "data = pd.read_csv('train_dataset.csv')\n",
    "data.describe()"
   ]
  },
  {
   "cell_type": "markdown",
   "metadata": {},
   "source": [
    "## Split data into train and val set"
   ]
  },
  {
   "cell_type": "code",
   "execution_count": 3,
   "metadata": {},
   "outputs": [],
   "source": [
    "skf = StratifiedKFold(random_state=12, n_splits=8, shuffle=True)\n",
    "\n",
    "X, y = data.drop('ineligible_for_funds', axis=1), data['ineligible_for_funds']\n",
    "\n",
    "train_index, val_index = next(skf.split(X, y))\n",
    "\n",
    "train = data.iloc[train_index].copy(deep=True)\n",
    "val = data.iloc[val_index].copy(deep=True)"
   ]
  },
  {
   "cell_type": "markdown",
   "metadata": {},
   "source": [
    "## EDA"
   ]
  },
  {
   "cell_type": "code",
   "execution_count": 4,
   "metadata": {},
   "outputs": [
    {
     "data": {
      "text/html": [
       "<div>\n",
       "<style scoped>\n",
       "    .dataframe tbody tr th:only-of-type {\n",
       "        vertical-align: middle;\n",
       "    }\n",
       "\n",
       "    .dataframe tbody tr th {\n",
       "        vertical-align: top;\n",
       "    }\n",
       "\n",
       "    .dataframe thead th {\n",
       "        text-align: right;\n",
       "    }\n",
       "</style>\n",
       "<table border=\"1\" class=\"dataframe\">\n",
       "  <thead>\n",
       "    <tr style=\"text-align: right;\">\n",
       "      <th></th>\n",
       "      <th>Id</th>\n",
       "      <th>monthly_income</th>\n",
       "      <th>age</th>\n",
       "      <th>experience</th>\n",
       "      <th>has_child</th>\n",
       "      <th>residential_status</th>\n",
       "      <th>owns_bike</th>\n",
       "      <th>profession</th>\n",
       "      <th>home_city</th>\n",
       "      <th>home_state</th>\n",
       "      <th>years_employed</th>\n",
       "      <th>age_house</th>\n",
       "      <th>ineligible_for_funds</th>\n",
       "    </tr>\n",
       "  </thead>\n",
       "  <tbody>\n",
       "    <tr>\n",
       "      <th>1</th>\n",
       "      <td>2</td>\n",
       "      <td>386858.796687</td>\n",
       "      <td>55</td>\n",
       "      <td>14.843088</td>\n",
       "      <td>no</td>\n",
       "      <td>NaN</td>\n",
       "      <td>no</td>\n",
       "      <td>Drafter</td>\n",
       "      <td>Whittier</td>\n",
       "      <td>Virginia</td>\n",
       "      <td>13</td>\n",
       "      <td>NaN</td>\n",
       "      <td>1</td>\n",
       "    </tr>\n",
       "    <tr>\n",
       "      <th>2</th>\n",
       "      <td>3</td>\n",
       "      <td>701707.897308</td>\n",
       "      <td>31</td>\n",
       "      <td>0.753429</td>\n",
       "      <td>no</td>\n",
       "      <td>on_rent</td>\n",
       "      <td>no</td>\n",
       "      <td>Geologist</td>\n",
       "      <td>Johnstown</td>\n",
       "      <td>North_Carolina</td>\n",
       "      <td>0</td>\n",
       "      <td>14.0</td>\n",
       "      <td>1</td>\n",
       "    </tr>\n",
       "    <tr>\n",
       "      <th>3</th>\n",
       "      <td>4</td>\n",
       "      <td>NaN</td>\n",
       "      <td>47</td>\n",
       "      <td>2.082146</td>\n",
       "      <td>no</td>\n",
       "      <td>on_rent</td>\n",
       "      <td>no</td>\n",
       "      <td>Surveyor</td>\n",
       "      <td>Paragould</td>\n",
       "      <td>Indiana</td>\n",
       "      <td>1</td>\n",
       "      <td>10.0</td>\n",
       "      <td>1</td>\n",
       "    </tr>\n",
       "    <tr>\n",
       "      <th>5</th>\n",
       "      <td>6</td>\n",
       "      <td>436576.423621</td>\n",
       "      <td>65</td>\n",
       "      <td>5.110069</td>\n",
       "      <td>no</td>\n",
       "      <td>on_rent</td>\n",
       "      <td>no</td>\n",
       "      <td>Police_officer</td>\n",
       "      <td>Reno</td>\n",
       "      <td>Tennessee</td>\n",
       "      <td>3</td>\n",
       "      <td>12.0</td>\n",
       "      <td>1</td>\n",
       "    </tr>\n",
       "    <tr>\n",
       "      <th>6</th>\n",
       "      <td>7</td>\n",
       "      <td>81047.323778</td>\n",
       "      <td>54</td>\n",
       "      <td>14.085262</td>\n",
       "      <td>no</td>\n",
       "      <td>on_rent</td>\n",
       "      <td>yes</td>\n",
       "      <td>Comedian</td>\n",
       "      <td>Koyukuk</td>\n",
       "      <td>North Carolina</td>\n",
       "      <td>13</td>\n",
       "      <td>12.0</td>\n",
       "      <td>1</td>\n",
       "    </tr>\n",
       "  </tbody>\n",
       "</table>\n",
       "</div>"
      ],
      "text/plain": [
       "   Id  monthly_income  age  experience has_child residential_status owns_bike  \\\n",
       "1   2   386858.796687   55   14.843088        no                NaN        no   \n",
       "2   3   701707.897308   31    0.753429        no            on_rent        no   \n",
       "3   4             NaN   47    2.082146        no            on_rent        no   \n",
       "5   6   436576.423621   65    5.110069        no            on_rent        no   \n",
       "6   7    81047.323778   54   14.085262        no            on_rent       yes   \n",
       "\n",
       "       profession  home_city      home_state  years_employed  age_house  \\\n",
       "1         Drafter   Whittier        Virginia              13        NaN   \n",
       "2       Geologist  Johnstown  North_Carolina               0       14.0   \n",
       "3        Surveyor  Paragould         Indiana               1       10.0   \n",
       "5  Police_officer       Reno       Tennessee               3       12.0   \n",
       "6        Comedian    Koyukuk  North Carolina              13       12.0   \n",
       "\n",
       "   ineligible_for_funds  \n",
       "1                     1  \n",
       "2                     1  \n",
       "3                     1  \n",
       "5                     1  \n",
       "6                     1  "
      ]
     },
     "execution_count": 4,
     "metadata": {},
     "output_type": "execute_result"
    }
   ],
   "source": [
    "train.head()"
   ]
  },
  {
   "cell_type": "code",
   "execution_count": 5,
   "metadata": {},
   "outputs": [
    {
     "data": {
      "text/html": [
       "<div>\n",
       "<style scoped>\n",
       "    .dataframe tbody tr th:only-of-type {\n",
       "        vertical-align: middle;\n",
       "    }\n",
       "\n",
       "    .dataframe tbody tr th {\n",
       "        vertical-align: top;\n",
       "    }\n",
       "\n",
       "    .dataframe thead th {\n",
       "        text-align: right;\n",
       "    }\n",
       "</style>\n",
       "<table border=\"1\" class=\"dataframe\">\n",
       "  <thead>\n",
       "    <tr style=\"text-align: right;\">\n",
       "      <th></th>\n",
       "      <th>Id</th>\n",
       "      <th>monthly_income</th>\n",
       "      <th>age</th>\n",
       "      <th>experience</th>\n",
       "      <th>has_child</th>\n",
       "      <th>residential_status</th>\n",
       "      <th>owns_bike</th>\n",
       "      <th>profession</th>\n",
       "      <th>home_city</th>\n",
       "      <th>home_state</th>\n",
       "      <th>years_employed</th>\n",
       "      <th>age_house</th>\n",
       "      <th>ineligible_for_funds</th>\n",
       "    </tr>\n",
       "  </thead>\n",
       "  <tbody>\n",
       "    <tr>\n",
       "      <th>0</th>\n",
       "      <td>1</td>\n",
       "      <td>467513.915421</td>\n",
       "      <td>52</td>\n",
       "      <td>8.001408</td>\n",
       "      <td>no</td>\n",
       "      <td>on_rent</td>\n",
       "      <td>no</td>\n",
       "      <td>Physician</td>\n",
       "      <td>Newport</td>\n",
       "      <td>Iowa</td>\n",
       "      <td>7</td>\n",
       "      <td>14.0</td>\n",
       "      <td>1</td>\n",
       "    </tr>\n",
       "    <tr>\n",
       "      <th>4</th>\n",
       "      <td>5</td>\n",
       "      <td>669171.434848</td>\n",
       "      <td>65</td>\n",
       "      <td>7.381569</td>\n",
       "      <td>no</td>\n",
       "      <td>NaN</td>\n",
       "      <td>no</td>\n",
       "      <td>Civil_engineer</td>\n",
       "      <td>Richmond</td>\n",
       "      <td>Virginia</td>\n",
       "      <td>6</td>\n",
       "      <td>NaN</td>\n",
       "      <td>1</td>\n",
       "    </tr>\n",
       "    <tr>\n",
       "      <th>28</th>\n",
       "      <td>29</td>\n",
       "      <td>532012.792857</td>\n",
       "      <td>68</td>\n",
       "      <td>8.165787</td>\n",
       "      <td>no</td>\n",
       "      <td>on_rent</td>\n",
       "      <td>yes</td>\n",
       "      <td>Financial_Analyst</td>\n",
       "      <td>Alice</td>\n",
       "      <td>Virginia</td>\n",
       "      <td>4</td>\n",
       "      <td>13.0</td>\n",
       "      <td>1</td>\n",
       "    </tr>\n",
       "    <tr>\n",
       "      <th>31</th>\n",
       "      <td>32</td>\n",
       "      <td>196510.328475</td>\n",
       "      <td>59</td>\n",
       "      <td>1.240000</td>\n",
       "      <td>no</td>\n",
       "      <td>on_rent</td>\n",
       "      <td>NaN</td>\n",
       "      <td>Army_officer</td>\n",
       "      <td>Winston-Salem</td>\n",
       "      <td>California</td>\n",
       "      <td>1</td>\n",
       "      <td>12.0</td>\n",
       "      <td>1</td>\n",
       "    </tr>\n",
       "    <tr>\n",
       "      <th>43</th>\n",
       "      <td>44</td>\n",
       "      <td>35134.357516</td>\n",
       "      <td>41</td>\n",
       "      <td>2.079418</td>\n",
       "      <td>no</td>\n",
       "      <td>on_rent</td>\n",
       "      <td>no</td>\n",
       "      <td>Politician</td>\n",
       "      <td>Dublin</td>\n",
       "      <td>Indiana</td>\n",
       "      <td>1</td>\n",
       "      <td>11.0</td>\n",
       "      <td>1</td>\n",
       "    </tr>\n",
       "  </tbody>\n",
       "</table>\n",
       "</div>"
      ],
      "text/plain": [
       "    Id  monthly_income  age  experience has_child residential_status  \\\n",
       "0    1   467513.915421   52    8.001408        no            on_rent   \n",
       "4    5   669171.434848   65    7.381569        no                NaN   \n",
       "28  29   532012.792857   68    8.165787        no            on_rent   \n",
       "31  32   196510.328475   59    1.240000        no            on_rent   \n",
       "43  44    35134.357516   41    2.079418        no            on_rent   \n",
       "\n",
       "   owns_bike         profession      home_city  home_state  years_employed  \\\n",
       "0         no          Physician        Newport        Iowa               7   \n",
       "4         no     Civil_engineer       Richmond    Virginia               6   \n",
       "28       yes  Financial_Analyst          Alice    Virginia               4   \n",
       "31       NaN       Army_officer  Winston-Salem  California               1   \n",
       "43        no         Politician         Dublin     Indiana               1   \n",
       "\n",
       "    age_house  ineligible_for_funds  \n",
       "0        14.0                     1  \n",
       "4         NaN                     1  \n",
       "28       13.0                     1  \n",
       "31       12.0                     1  \n",
       "43       11.0                     1  "
      ]
     },
     "execution_count": 5,
     "metadata": {},
     "output_type": "execute_result"
    }
   ],
   "source": [
    "val.head()"
   ]
  },
  {
   "cell_type": "code",
   "execution_count": 6,
   "metadata": {},
   "outputs": [
    {
     "data": {
      "text/plain": [
       "<AxesSubplot:xlabel='monthly_income', ylabel='Count'>"
      ]
     },
     "execution_count": 6,
     "metadata": {},
     "output_type": "execute_result"
    },
    {
     "data": {
      "image/png": "[encoded data removed]",
      "text/plain": [
       "<Figure size 432x288 with 1 Axes>"
      ]
     },
     "metadata": {
      "needs_background": "light"
     },
     "output_type": "display_data"
    }
   ],
   "source": [
    "sns.histplot(data=train['monthly_income'])"
   ]
  },
  {
   "cell_type": "code",
   "execution_count": 7,
   "metadata": {},
   "outputs": [
    {
     "data": {
      "text/plain": [
       "<AxesSubplot:xlabel='age', ylabel='Count'>"
      ]
     },
     "execution_count": 7,
     "metadata": {},
     "output_type": "execute_result"
    },
    {
     "data": {
      "image/png": "[encoded data removed]",
      "text/plain": [
       "<Figure size 432x288 with 1 Axes>"
      ]
     },
     "metadata": {
      "needs_background": "light"
     },
     "output_type": "display_data"
    }
   ],
   "source": [
    "sns.histplot(data=train['age'] )"
   ]
  },
  {
   "cell_type": "code",
   "execution_count": 8,
   "metadata": {},
   "outputs": [
    {
     "name": "stdout",
     "output_type": "stream",
     "text": [
      "Id 0\n",
      "monthly_income 15504\n",
      "age 0\n",
      "experience 0\n",
      "has_child 0\n",
      "residential_status 15120\n",
      "owns_bike 15668\n",
      "profession 0\n",
      "home_city 0\n",
      "home_state 0\n",
      "years_employed 0\n",
      "age_house 15120\n",
      "ineligible_for_funds 0\n"
     ]
    }
   ],
   "source": [
    "for i in train.columns:\n",
    "    print(i, train[i].isnull().sum())"
   ]
  },
  {
   "cell_type": "markdown",
   "metadata": {},
   "source": [
    "### Imputing value for `monthly income`"
   ]
  },
  {
   "cell_type": "code",
   "execution_count": 9,
   "metadata": {},
   "outputs": [],
   "source": [
    "age = {i: 0 for i in range(21, 80)}\n",
    "tot_sal = {i: 0 for i in range(21, 80)}\n",
    "for i, r in train.iterrows():\n",
    "    age[r['age']] += 1\n",
    "    if pd.notna(r['monthly_income']):\n",
    "        tot_sal[r['age']] += r['monthly_income']"
   ]
  },
  {
   "cell_type": "code",
   "execution_count": 10,
   "metadata": {},
   "outputs": [
    {
     "name": "stdout",
     "output_type": "stream",
     "text": [
      "{21: 2738, 22: 2914, 23: 2823, 24: 2859, 25: 2990, 26: 2775, 27: 3364, 28: 2575, 29: 2700, 30: 2929, 31: 2800, 32: 2524, 33: 3171, 34: 2923, 35: 3045, 36: 2294, 37: 2755, 38: 2512, 39: 2490, 40: 2750, 41: 3109, 42: 2733, 43: 2774, 44: 2405, 45: 3135, 46: 2445, 47: 2925, 48: 3234, 49: 2771, 50: 3022, 51: 2275, 52: 2126, 53: 2922, 54: 3120, 55: 2985, 56: 2886, 57: 2864, 58: 2865, 59: 2946, 60: 2919, 61: 2759, 62: 2830, 63: 2561, 64: 2733, 65: 2618, 66: 3299, 67: 2631, 68: 3101, 69: 3005, 70: 2815, 71: 2760, 72: 2941, 73: 2348, 74: 2608, 75: 2533, 76: 3015, 77: 2561, 78: 2899, 79: 2966} {21: 1010611458.0603219, 22: 1131588204.386621, 23: 1042600512.6611443, 24: 1117006088.9472513, 25: 1167250051.8807886, 26: 1131372378.2770247, 27: 1239086406.811223, 28: 949203866.3834547, 29: 1011465380.2808902, 30: 1117332157.3362148, 31: 1077571319.0557508, 32: 877006132.1650648, 33: 1027744442.789163, 34: 1081220244.4195287, 35: 1175257763.1085255, 36: 861369844.7011477, 37: 1036953782.1203816, 38: 1012742858.9426733, 39: 882603276.6086478, 40: 1066328661.5994072, 41: 1212768782.3021169, 42: 1053596813.244691, 43: 1094418832.8028967, 44: 884653811.5293268, 45: 1084824766.7088733, 46: 930170543.2420555, 47: 1086264746.6965947, 48: 1287025608.9483154, 49: 1083350438.911309, 50: 1088682789.1722684, 51: 916955274.4946611, 52: 790065131.281195, 53: 1128425224.1105478, 54: 1114459297.2862656, 55: 1230635992.7185824, 56: 1070841818.6607814, 57: 1085766368.3833482, 58: 1095480203.367732, 59: 1085064418.351598, 60: 1127604158.2028112, 61: 1166846653.6046786, 62: 1059860777.4712497, 63: 1030695992.9704915, 64: 894812561.8207695, 65: 953306565.5333416, 66: 1223932777.6862643, 67: 1002483166.480706, 68: 1138942902.7480054, 69: 1085430825.9443445, 70: 1128635347.1459024, 71: 990800340.2107966, 72: 1114031262.475253, 73: 776826739.6938249, 74: 1052167128.0557384, 75: 1002202414.0072675, 76: 1110896566.102138, 77: 969394345.8070664, 78: 1087181446.4211082, 79: 1139148956.5699537}\n"
     ]
    }
   ],
   "source": [
    "print(age, tot_sal)"
   ]
  },
  {
   "cell_type": "code",
   "execution_count": 11,
   "metadata": {},
   "outputs": [
    {
     "name": "stdout",
     "output_type": "stream",
     "text": [
      "{21: 369105.71879485826, 22: 388328.1415190875, 23: 369323.5964084818, 24: 390698.17731628235, 25: 390384.6327360497, 26: 407701.75793766655, 27: 368337.2196228368, 28: 368622.86073143873, 29: 374616.8075114408, 30: 381472.22852038743, 31: 384846.8996627682, 32: 347466.77185620635, 33: 324107.3613337001, 34: 369900.8704822199, 35: 385963.1405939328, 36: 375488.1624678063, 37: 376389.7575754561, 38: 403161.9661395993, 39: 354459.14723238867, 40: 387755.87694523897, 41: 390083.2365075963, 42: 385509.2620727007, 43: 394527.3369873456, 44: 367839.42267331673, 45: 346036.6082005975, 46: 380437.8499967507, 47: 371372.56297319476, 48: 397967.1023340493, 49: 390960.1006536662, 50: 360252.4120358267, 51: 403057.2635141367, 52: 371620.47567318677, 53: 386182.48600634764, 54: 357198.4927199569, 55: 412273.36439483496, 56: 371047.061213022, 57: 379108.3688489344, 58: 382366.56313009845, 59: 368317.8609475893, 60: 386298.10147407034, 61: 422923.75991470774, 62: 374509.1086470847, 63: 402458.4119369354, 64: 327410.37754144514, 65: 364135.4337407722, 66: 371001.14510041353, 67: 381027.4292971136, 68: 367282.4581580153, 69: 361208.26154553896, 70: 400936.18015840225, 71: 358985.6305111582, 72: 378793.3568429966, 73: 330846.1412665353, 74: 403438.31597229233, 75: 395658.2763550207, 76: 368456.57250485505, 77: 378521.8062503188, 78: 375019.47099727776, 79: 384069.10201279627}\n"
     ]
    }
   ],
   "source": [
    "for i in tot_sal:\n",
    "        tot_sal[i] = tot_sal[i]/age[i]\n",
    "print(tot_sal)"
   ]
  },
  {
   "cell_type": "code",
   "execution_count": 12,
   "metadata": {},
   "outputs": [],
   "source": [
    "train.loc[:, 'monthly_income'] = train.apply(lambda x: tot_sal[x.age] if pd.isna(x.monthly_income) else x.monthly_income, axis=1)\n",
    "val.loc[:, 'monthly_income'] = val.apply(lambda x: tot_sal[x.age] if pd.isna(x.monthly_income) else x.monthly_income, axis=1)"
   ]
  },
  {
   "cell_type": "markdown",
   "metadata": {},
   "source": [
    "### Imputing value for `owns_bike`"
   ]
  },
  {
   "cell_type": "code",
   "execution_count": 13,
   "metadata": {},
   "outputs": [
    {
     "name": "stdout",
     "output_type": "stream",
     "text": [
      "Id 0\n",
      "monthly_income 0\n",
      "age 0\n",
      "experience 0\n",
      "has_child 0\n",
      "residential_status 15120\n",
      "owns_bike 15668\n",
      "profession 0\n",
      "home_city 0\n",
      "home_state 0\n",
      "years_employed 0\n",
      "age_house 15120\n",
      "ineligible_for_funds 0\n"
     ]
    }
   ],
   "source": [
    "for i in train.columns:\n",
    "    print(i, train[i].isnull().sum())"
   ]
  },
  {
   "cell_type": "code",
   "execution_count": 14,
   "metadata": {},
   "outputs": [
    {
     "data": {
      "text/plain": [
       "no     104590\n",
       "yes     45117\n",
       "Name: owns_bike, dtype: int64"
      ]
     },
     "execution_count": 14,
     "metadata": {},
     "output_type": "execute_result"
    }
   ],
   "source": [
    "train.owns_bike.value_counts()"
   ]
  },
  {
   "cell_type": "code",
   "execution_count": 15,
   "metadata": {},
   "outputs": [
    {
     "data": {
      "text/plain": [
       "<AxesSubplot:xlabel='age', ylabel='Count'>"
      ]
     },
     "execution_count": 15,
     "metadata": {},
     "output_type": "execute_result"
    },
    {
     "data": {
      "image/png": "[encoded data removed]",
      "text/plain": [
       "<Figure size 432x288 with 1 Axes>"
      ]
     },
     "metadata": {
      "needs_background": "light"
     },
     "output_type": "display_data"
    }
   ],
   "source": [
    "sns.histplot(train, x='age', binwidth=10, hue='owns_bike', multiple='layer')"
   ]
  },
  {
   "cell_type": "code",
   "execution_count": 16,
   "metadata": {},
   "outputs": [],
   "source": [
    "train.loc[:, 'owns_bike'] = train.apply(lambda x: 'no' if pd.isna(x.owns_bike) else x.owns_bike, axis=1) # we're imputing 'no' as its highest probable class\n",
    "val.loc[:, 'owns_bike'] = val.apply(lambda x: 'no' if pd.isna(x.owns_bike) else x.owns_bike, axis=1)"
   ]
  },
  {
   "cell_type": "markdown",
   "metadata": {},
   "source": [
    "### Imputing value for `monthly_income`"
   ]
  },
  {
   "cell_type": "code",
   "execution_count": 17,
   "metadata": {},
   "outputs": [
    {
     "name": "stdout",
     "output_type": "stream",
     "text": [
      "Id 0\n",
      "monthly_income 0\n",
      "age 0\n",
      "experience 0\n",
      "has_child 0\n",
      "residential_status 15120\n",
      "owns_bike 0\n",
      "profession 0\n",
      "home_city 0\n",
      "home_state 0\n",
      "years_employed 0\n",
      "age_house 15120\n",
      "ineligible_for_funds 0\n"
     ]
    }
   ],
   "source": [
    "for i in train.columns:\n",
    "    print(i, train[i].isnull().sum())"
   ]
  },
  {
   "cell_type": "code",
   "execution_count": 18,
   "metadata": {},
   "outputs": [
    {
     "data": {
      "text/plain": [
       "on_rent      138353\n",
       "own_house      7673\n",
       "no_house       4229\n",
       "Name: residential_status, dtype: int64"
      ]
     },
     "execution_count": 18,
     "metadata": {},
     "output_type": "execute_result"
    }
   ],
   "source": [
    "train.residential_status.value_counts()"
   ]
  },
  {
   "cell_type": "code",
   "execution_count": 19,
   "metadata": {},
   "outputs": [
    {
     "data": {
      "text/plain": [
       "<AxesSubplot:xlabel='monthly_income', ylabel='Count'>"
      ]
     },
     "execution_count": 19,
     "metadata": {},
     "output_type": "execute_result"
    },
    {
     "data": {
      "image/png": "[encoded data removed]",
      "text/plain": [
       "<Figure size 432x288 with 1 Axes>"
      ]
     },
     "metadata": {
      "needs_background": "light"
     },
     "output_type": "display_data"
    }
   ],
   "source": [
    "sns.histplot(train, x='monthly_income', binwidth=100000, hue='residential_status', multiple='layer')"
   ]
  },
  {
   "cell_type": "code",
   "execution_count": 20,
   "metadata": {},
   "outputs": [],
   "source": [
    "train.residential_status = train.apply(lambda x: 'on_rent' if pd.isna(x.residential_status) else x.residential_status, axis=1)\n",
    "val.residential_status = val.apply(lambda x: 'on_rent' if pd.isna(x.residential_status) else x.residential_status, axis=1)"
   ]
  },
  {
   "cell_type": "markdown",
   "metadata": {},
   "source": [
    "### We drop `age_house` as the values are distributed almost equally over all bins"
   ]
  },
  {
   "cell_type": "code",
   "execution_count": 21,
   "metadata": {},
   "outputs": [
    {
     "name": "stdout",
     "output_type": "stream",
     "text": [
      "Id 0\n",
      "monthly_income 0\n",
      "age 0\n",
      "experience 0\n",
      "has_child 0\n",
      "residential_status 0\n",
      "owns_bike 0\n",
      "profession 0\n",
      "home_city 0\n",
      "home_state 0\n",
      "years_employed 0\n",
      "age_house 15120\n",
      "ineligible_for_funds 0\n"
     ]
    }
   ],
   "source": [
    "for i in train.columns:\n",
    "    print(i, train[i].isnull().sum())"
   ]
  },
  {
   "cell_type": "code",
   "execution_count": 22,
   "metadata": {},
   "outputs": [
    {
     "data": {
      "text/plain": [
       "12.0    30840\n",
       "11.0    30837\n",
       "13.0    30338\n",
       "14.0    29265\n",
       "10.0    28975\n",
       "Name: age_house, dtype: int64"
      ]
     },
     "execution_count": 22,
     "metadata": {},
     "output_type": "execute_result"
    }
   ],
   "source": [
    "train.age_house.value_counts()"
   ]
  },
  {
   "cell_type": "code",
   "execution_count": 23,
   "metadata": {},
   "outputs": [
    {
     "data": {
      "text/plain": [
       "<AxesSubplot:xlabel='age', ylabel='Count'>"
      ]
     },
     "execution_count": 23,
     "metadata": {},
     "output_type": "execute_result"
    },
    {
     "data": {
      "image/png": "[encoded data removed]",
      "text/plain": [
       "<Figure size 432x288 with 1 Axes>"
      ]
     },
     "metadata": {
      "needs_background": "light"
     },
     "output_type": "display_data"
    }
   ],
   "source": [
    "sns.histplot(train, x='age', hue='age_house', multiple='layer')"
   ]
  },
  {
   "cell_type": "code",
   "execution_count": 24,
   "metadata": {},
   "outputs": [],
   "source": [
    "train = train.drop(['age_house'], axis=1)\n",
    "val = val.drop(['age_house'], axis=1)"
   ]
  },
  {
   "cell_type": "markdown",
   "metadata": {},
   "source": [
    "## Transform features"
   ]
  },
  {
   "cell_type": "code",
   "execution_count": 25,
   "metadata": {},
   "outputs": [
    {
     "data": {
      "text/plain": [
       "Index(['Id', 'monthly_income', 'age', 'experience', 'has_child',\n",
       "       'residential_status', 'owns_bike', 'profession', 'home_city',\n",
       "       'home_state', 'years_employed', 'ineligible_for_funds'],\n",
       "      dtype='object')"
      ]
     },
     "execution_count": 25,
     "metadata": {},
     "output_type": "execute_result"
    }
   ],
   "source": [
    "train.columns"
   ]
  },
  {
   "cell_type": "code",
   "execution_count": 26,
   "metadata": {},
   "outputs": [
    {
     "data": {
      "text/plain": [
       "Physician                     3886\n",
       "Statistician                  3802\n",
       "Magistrate                    3524\n",
       "Web_designer                  3519\n",
       "Drafter                       3519\n",
       "Computer_hardware_engineer    3493\n",
       "Psychologist                  3491\n",
       "Air_traffic_controller        3485\n",
       "Fashion_Designer              3467\n",
       "Technical_writer              3452\n",
       "Comedian                      3449\n",
       "Chemical_engineer             3425\n",
       "Industrial_Engineer           3410\n",
       "Hotel_Manager                 3405\n",
       "Financial_Analyst             3400\n",
       "Graphic_Designer              3383\n",
       "Mechanical_engineer           3373\n",
       "Biomedical_Engineer           3349\n",
       "Software_Developer            3338\n",
       "Flight_attendant              3320\n",
       "Petroleum_Engineer            3292\n",
       "Police_officer                3287\n",
       "Secretary                     3271\n",
       "Politician                    3234\n",
       "Microbiologist                3223\n",
       "Computer_operator             3223\n",
       "Lawyer                        3185\n",
       "Artist                        3183\n",
       "Technician                    3181\n",
       "Scientist                     3180\n",
       "Dentist                       3137\n",
       "Technology_specialist         3133\n",
       "Aviator                       3128\n",
       "Consultant                    3126\n",
       "Surgeon                       3124\n",
       "Surveyor                      3120\n",
       "Design_Engineer               3102\n",
       "Analyst                       3093\n",
       "Geologist                     3080\n",
       "Architect                     3055\n",
       "Civil_engineer                3055\n",
       "Army_officer                  3053\n",
       "Designer                      3050\n",
       "Librarian                     3041\n",
       "Chef                          3039\n",
       "Firefighter                   3014\n",
       "Economist                     3011\n",
       "Chartered_Accountant          2955\n",
       "Civil_servant                 2928\n",
       "Official                      2738\n",
       "Engineer                      2644\n",
       "Name: profession, dtype: int64"
      ]
     },
     "execution_count": 26,
     "metadata": {},
     "output_type": "execute_result"
    }
   ],
   "source": [
    "train.profession.value_counts()"
   ]
  },
  {
   "cell_type": "code",
   "execution_count": 27,
   "metadata": {},
   "outputs": [
    {
     "data": {
      "text/plain": [
       "Winter Haven       1012\n",
       "Gary                937\n",
       "Harrisonburg        753\n",
       "Burlington          739\n",
       "Bozeman             702\n",
       "                   ... \n",
       "Columbus[36]          1\n",
       "Scottsbluff[17]       1\n",
       "Waycross[63]          1\n",
       "Pensacola[58]         1\n",
       "Monterey[64]          1\n",
       "Name: home_city, Length: 9833, dtype: int64"
      ]
     },
     "execution_count": 27,
     "metadata": {},
     "output_type": "execute_result"
    }
   ],
   "source": [
    "train.home_city.value_counts() # it can be seen that some strings have things appended to them"
   ]
  },
  {
   "cell_type": "code",
   "execution_count": 28,
   "metadata": {},
   "outputs": [
    {
     "data": {
      "text/html": [
       "<div>\n",
       "<style scoped>\n",
       "    .dataframe tbody tr th:only-of-type {\n",
       "        vertical-align: middle;\n",
       "    }\n",
       "\n",
       "    .dataframe tbody tr th {\n",
       "        vertical-align: top;\n",
       "    }\n",
       "\n",
       "    .dataframe thead th {\n",
       "        text-align: right;\n",
       "    }\n",
       "</style>\n",
       "<table border=\"1\" class=\"dataframe\">\n",
       "  <thead>\n",
       "    <tr style=\"text-align: right;\">\n",
       "      <th></th>\n",
       "      <th>Id</th>\n",
       "      <th>monthly_income</th>\n",
       "      <th>age</th>\n",
       "      <th>experience</th>\n",
       "      <th>years_employed</th>\n",
       "      <th>age_house</th>\n",
       "    </tr>\n",
       "  </thead>\n",
       "  <tbody>\n",
       "    <tr>\n",
       "      <th>count</th>\n",
       "      <td>63000.000000</td>\n",
       "      <td>63000.000000</td>\n",
       "      <td>63000.000000</td>\n",
       "      <td>63000.000000</td>\n",
       "      <td>63000.000000</td>\n",
       "      <td>63000.000000</td>\n",
       "    </tr>\n",
       "    <tr>\n",
       "      <th>mean</th>\n",
       "      <td>220500.500000</td>\n",
       "      <td>417263.437393</td>\n",
       "      <td>50.001016</td>\n",
       "      <td>11.191371</td>\n",
       "      <td>6.341651</td>\n",
       "      <td>11.994413</td>\n",
       "    </tr>\n",
       "    <tr>\n",
       "      <th>std</th>\n",
       "      <td>18186.677816</td>\n",
       "      <td>239689.206316</td>\n",
       "      <td>17.058478</td>\n",
       "      <td>6.018964</td>\n",
       "      <td>3.644700</td>\n",
       "      <td>1.395776</td>\n",
       "    </tr>\n",
       "    <tr>\n",
       "      <th>min</th>\n",
       "      <td>189001.000000</td>\n",
       "      <td>837.316831</td>\n",
       "      <td>21.000000</td>\n",
       "      <td>0.002326</td>\n",
       "      <td>0.000000</td>\n",
       "      <td>10.000000</td>\n",
       "    </tr>\n",
       "    <tr>\n",
       "      <th>25%</th>\n",
       "      <td>204750.750000</td>\n",
       "      <td>209549.405094</td>\n",
       "      <td>35.000000</td>\n",
       "      <td>6.047270</td>\n",
       "      <td>4.000000</td>\n",
       "      <td>11.000000</td>\n",
       "    </tr>\n",
       "    <tr>\n",
       "      <th>50%</th>\n",
       "      <td>220500.500000</td>\n",
       "      <td>418093.907188</td>\n",
       "      <td>50.000000</td>\n",
       "      <td>11.218748</td>\n",
       "      <td>6.000000</td>\n",
       "      <td>12.000000</td>\n",
       "    </tr>\n",
       "    <tr>\n",
       "      <th>75%</th>\n",
       "      <td>236250.250000</td>\n",
       "      <td>623312.435637</td>\n",
       "      <td>65.000000</td>\n",
       "      <td>16.389425</td>\n",
       "      <td>9.000000</td>\n",
       "      <td>13.000000</td>\n",
       "    </tr>\n",
       "    <tr>\n",
       "      <th>max</th>\n",
       "      <td>252000.000000</td>\n",
       "      <td>833453.440655</td>\n",
       "      <td>79.000000</td>\n",
       "      <td>22.975283</td>\n",
       "      <td>14.000000</td>\n",
       "      <td>14.000000</td>\n",
       "    </tr>\n",
       "  </tbody>\n",
       "</table>\n",
       "</div>"
      ],
      "text/plain": [
       "                  Id  monthly_income           age    experience  \\\n",
       "count   63000.000000    63000.000000  63000.000000  63000.000000   \n",
       "mean   220500.500000   417263.437393     50.001016     11.191371   \n",
       "std     18186.677816   239689.206316     17.058478      6.018964   \n",
       "min    189001.000000      837.316831     21.000000      0.002326   \n",
       "25%    204750.750000   209549.405094     35.000000      6.047270   \n",
       "50%    220500.500000   418093.907188     50.000000     11.218748   \n",
       "75%    236250.250000   623312.435637     65.000000     16.389425   \n",
       "max    252000.000000   833453.440655     79.000000     22.975283   \n",
       "\n",
       "       years_employed     age_house  \n",
       "count    63000.000000  63000.000000  \n",
       "mean         6.341651     11.994413  \n",
       "std          3.644700      1.395776  \n",
       "min          0.000000     10.000000  \n",
       "25%          4.000000     11.000000  \n",
       "50%          6.000000     12.000000  \n",
       "75%          9.000000     13.000000  \n",
       "max         14.000000     14.000000  "
      ]
     },
     "execution_count": 28,
     "metadata": {},
     "output_type": "execute_result"
    }
   ],
   "source": [
    "test = pd.read_csv('test_dataset.csv')\n",
    "test.describe()"
   ]
  },
  {
   "cell_type": "code",
   "execution_count": 29,
   "metadata": {},
   "outputs": [
    {
     "name": "stdout",
     "output_type": "stream",
     "text": [
      "Id 0\n",
      "monthly_income 0\n",
      "age 0\n",
      "experience 0\n",
      "has_child 0\n",
      "residential_status 0\n",
      "owns_bike 0\n",
      "profession 0\n",
      "home_city 0\n",
      "home_state 0\n",
      "years_employed 0\n",
      "age_house 0\n"
     ]
    }
   ],
   "source": [
    "for i in test.columns:\n",
    "    print(i, test[i].isna().sum())"
   ]
  },
  {
   "cell_type": "code",
   "execution_count": 30,
   "metadata": {},
   "outputs": [],
   "source": [
    "import re\n",
    "'''\n",
    "We're doing this to remove those '[6]' type things appended to some strings \n",
    "    and also replacing spaces with '-' as a few strings are seperated by this rather than spaces.\n",
    "'''\n",
    "train['profession'] = train.profession.apply(lambda x: re.sub(r'\\[[0-9*]*\\]', '',  '_'.join(x.split())))\n",
    "train['home_city'] = train.home_city.apply(lambda x: re.sub(r'\\[[0-9*]*\\]', '',  '_'.join(x.split())))\n",
    "train['home_state'] = train.home_state.apply(lambda x: re.sub(r'\\[[0-9*]*\\]', '', '_'.join(x.split())))\n",
    "\n",
    "test['profession'] = test.profession.apply(lambda x: re.sub(r'\\[[0-9*]*\\]', '',  '_'.join(x.split())))\n",
    "test['home_city'] = test.home_city.apply(lambda x: re.sub(r'\\[[0-9*]*\\]', '',  '_'.join(x.split())))\n",
    "test['home_state'] = test.home_state.apply(lambda x: re.sub(r'\\[[0-9*]*\\]', '', '_'.join(x.split())))\n",
    "\n",
    "test['profession'] = test.profession.apply(lambda x: re.sub(r'\\[[0-9*]*\\]', '',  '_'.join(x.split())))\n",
    "test['home_city'] = test.home_city.apply(lambda x: re.sub(r'\\[[0-9*]*\\]', '',  '_'.join(x.split())))\n",
    "test['home_state'] = test.home_state.apply(lambda x: re.sub(r'\\[[0-9*]*\\]', '',  '_'.join(x.split())))"
   ]
  },
  {
   "cell_type": "code",
   "execution_count": 31,
   "metadata": {},
   "outputs": [],
   "source": [
    "from sklearn.preprocessing import LabelEncoder"
   ]
  },
  {
   "cell_type": "code",
   "execution_count": 32,
   "metadata": {},
   "outputs": [],
   "source": [
    "re = LabelEncoder().fit(train['residential_status'])\n",
    "\n",
    "train['resi'] = re.transform(train['residential_status'])\n",
    "val['resi'] = re.transform(val['residential_status'])\n",
    "test['resi'] = re.transform(test['residential_status'])"
   ]
  },
  {
   "cell_type": "code",
   "execution_count": 33,
   "metadata": {},
   "outputs": [],
   "source": [
    "hc = LabelEncoder().fit(train['has_child'])\n",
    "\n",
    "train['hc'] = hc.transform(train['has_child'])\n",
    "val['hc'] = hc.transform(val['has_child'])\n",
    "test['hc'] = hc.transform(test['has_child'])"
   ]
  },
  {
   "cell_type": "code",
   "execution_count": 34,
   "metadata": {},
   "outputs": [],
   "source": [
    "ob = LabelEncoder().fit(data['owns_bike'])\n",
    "\n",
    "train['ob'] = ob.transform(train['owns_bike'])\n",
    "val['ob'] = ob.transform(val['owns_bike'])\n",
    "test['ob'] = ob.transform(test['owns_bike'])"
   ]
  },
  {
   "cell_type": "code",
   "execution_count": 35,
   "metadata": {},
   "outputs": [],
   "source": [
    "pf = LabelEncoder().fit(data['profession'])\n",
    "\n",
    "train['pf'] = pf.transform(train['profession'])\n",
    "val['pf'] = pf.transform(val['profession'])\n",
    "test['pf'] = pf.transform(test['profession'])"
   ]
  },
  {
   "cell_type": "code",
   "execution_count": 36,
   "metadata": {},
   "outputs": [],
   "source": [
    "hci = LabelEncoder().fit(data['home_city'])\n",
    "\n",
    "train['hci'] = hci.transform(train['home_city'])\n",
    "val['hci'] = hci.transform(val['home_city'])\n",
    "test['hci'] = hci.transform(test['home_city'])"
   ]
  },
  {
   "cell_type": "code",
   "execution_count": 37,
   "metadata": {},
   "outputs": [],
   "source": [
    "hs = LabelEncoder().fit(data['home_state'])\n",
    "\n",
    "train['hs'] = hs.transform(train['home_state'])\n",
    "val['hs'] = hs.transform(val['home_state'])\n",
    "test['hs'] = hs.transform(test['home_state'])"
   ]
  },
  {
   "cell_type": "markdown",
   "metadata": {},
   "source": [
    "### We select the numeric and encoded features to be passed to the model"
   ]
  },
  {
   "cell_type": "code",
   "execution_count": 38,
   "metadata": {},
   "outputs": [],
   "source": [
    "X_cols = ['monthly_income', 'age', 'experience', 'hc', 'resi', 'ob', 'pf', 'hci', 'hs', 'years_employed']\n",
    "\n",
    "X_train = train[X_cols]\n",
    "y_train = train['ineligible_for_funds']\n",
    "\n",
    "X_val = val[X_cols]\n",
    "y_val = val['ineligible_for_funds']\n",
    "\n",
    "X_test = test[X_cols]"
   ]
  },
  {
   "cell_type": "markdown",
   "metadata": {},
   "source": [
    "## Since the dataset is imbalanced we upsample 1 and downsample 0"
   ]
  },
  {
   "cell_type": "code",
   "execution_count": 39,
   "metadata": {},
   "outputs": [],
   "source": [
    "from imblearn.combine import SMOTEENN\n",
    "\n",
    "smt = SMOTEENN(random_state=0)\n",
    "X_sm, y_sm = smt.fit_resample(X_train, y_train)"
   ]
  },
  {
   "cell_type": "code",
   "execution_count": 40,
   "metadata": {},
   "outputs": [
    {
     "data": {
      "text/html": [
       "<div>\n",
       "<style scoped>\n",
       "    .dataframe tbody tr th:only-of-type {\n",
       "        vertical-align: middle;\n",
       "    }\n",
       "\n",
       "    .dataframe tbody tr th {\n",
       "        vertical-align: top;\n",
       "    }\n",
       "\n",
       "    .dataframe thead th {\n",
       "        text-align: right;\n",
       "    }\n",
       "</style>\n",
       "<table border=\"1\" class=\"dataframe\">\n",
       "  <thead>\n",
       "    <tr style=\"text-align: right;\">\n",
       "      <th></th>\n",
       "      <th>monthly_income</th>\n",
       "      <th>age</th>\n",
       "      <th>experience</th>\n",
       "      <th>hc</th>\n",
       "      <th>resi</th>\n",
       "      <th>ob</th>\n",
       "      <th>pf</th>\n",
       "      <th>hci</th>\n",
       "      <th>hs</th>\n",
       "      <th>years_employed</th>\n",
       "    </tr>\n",
       "  </thead>\n",
       "  <tbody>\n",
       "    <tr>\n",
       "      <th>0</th>\n",
       "      <td>724400.308991</td>\n",
       "      <td>61</td>\n",
       "      <td>3.741440</td>\n",
       "      <td>0</td>\n",
       "      <td>1</td>\n",
       "      <td>0</td>\n",
       "      <td>10</td>\n",
       "      <td>9062</td>\n",
       "      <td>2119</td>\n",
       "      <td>3</td>\n",
       "    </tr>\n",
       "    <tr>\n",
       "      <th>1</th>\n",
       "      <td>54254.886628</td>\n",
       "      <td>72</td>\n",
       "      <td>16.745524</td>\n",
       "      <td>0</td>\n",
       "      <td>1</td>\n",
       "      <td>0</td>\n",
       "      <td>4</td>\n",
       "      <td>7497</td>\n",
       "      <td>628</td>\n",
       "      <td>14</td>\n",
       "    </tr>\n",
       "    <tr>\n",
       "      <th>2</th>\n",
       "      <td>753938.108478</td>\n",
       "      <td>63</td>\n",
       "      <td>4.335981</td>\n",
       "      <td>0</td>\n",
       "      <td>1</td>\n",
       "      <td>1</td>\n",
       "      <td>44</td>\n",
       "      <td>9778</td>\n",
       "      <td>2423</td>\n",
       "      <td>3</td>\n",
       "    </tr>\n",
       "    <tr>\n",
       "      <th>3</th>\n",
       "      <td>257949.201949</td>\n",
       "      <td>45</td>\n",
       "      <td>10.712152</td>\n",
       "      <td>0</td>\n",
       "      <td>1</td>\n",
       "      <td>1</td>\n",
       "      <td>26</td>\n",
       "      <td>6888</td>\n",
       "      <td>897</td>\n",
       "      <td>4</td>\n",
       "    </tr>\n",
       "    <tr>\n",
       "      <th>4</th>\n",
       "      <td>54356.550522</td>\n",
       "      <td>68</td>\n",
       "      <td>9.710970</td>\n",
       "      <td>0</td>\n",
       "      <td>1</td>\n",
       "      <td>1</td>\n",
       "      <td>4</td>\n",
       "      <td>10743</td>\n",
       "      <td>2423</td>\n",
       "      <td>9</td>\n",
       "    </tr>\n",
       "    <tr>\n",
       "      <th>...</th>\n",
       "      <td>...</td>\n",
       "      <td>...</td>\n",
       "      <td>...</td>\n",
       "      <td>...</td>\n",
       "      <td>...</td>\n",
       "      <td>...</td>\n",
       "      <td>...</td>\n",
       "      <td>...</td>\n",
       "      <td>...</td>\n",
       "      <td>...</td>\n",
       "    </tr>\n",
       "    <tr>\n",
       "      <th>229585</th>\n",
       "      <td>881.550562</td>\n",
       "      <td>23</td>\n",
       "      <td>2.543454</td>\n",
       "      <td>0</td>\n",
       "      <td>1</td>\n",
       "      <td>1</td>\n",
       "      <td>27</td>\n",
       "      <td>8636</td>\n",
       "      <td>2119</td>\n",
       "      <td>1</td>\n",
       "    </tr>\n",
       "    <tr>\n",
       "      <th>229586</th>\n",
       "      <td>701681.804626</td>\n",
       "      <td>31</td>\n",
       "      <td>1.454632</td>\n",
       "      <td>0</td>\n",
       "      <td>1</td>\n",
       "      <td>0</td>\n",
       "      <td>26</td>\n",
       "      <td>4961</td>\n",
       "      <td>1579</td>\n",
       "      <td>0</td>\n",
       "    </tr>\n",
       "    <tr>\n",
       "      <th>229587</th>\n",
       "      <td>112037.421775</td>\n",
       "      <td>30</td>\n",
       "      <td>1.376202</td>\n",
       "      <td>0</td>\n",
       "      <td>0</td>\n",
       "      <td>0</td>\n",
       "      <td>7</td>\n",
       "      <td>9570</td>\n",
       "      <td>1941</td>\n",
       "      <td>0</td>\n",
       "    </tr>\n",
       "    <tr>\n",
       "      <th>229588</th>\n",
       "      <td>711464.196162</td>\n",
       "      <td>33</td>\n",
       "      <td>19.273595</td>\n",
       "      <td>0</td>\n",
       "      <td>1</td>\n",
       "      <td>0</td>\n",
       "      <td>48</td>\n",
       "      <td>10395</td>\n",
       "      <td>897</td>\n",
       "      <td>5</td>\n",
       "    </tr>\n",
       "    <tr>\n",
       "      <th>229589</th>\n",
       "      <td>87546.676336</td>\n",
       "      <td>53</td>\n",
       "      <td>2.205832</td>\n",
       "      <td>0</td>\n",
       "      <td>1</td>\n",
       "      <td>0</td>\n",
       "      <td>32</td>\n",
       "      <td>2764</td>\n",
       "      <td>2676</td>\n",
       "      <td>0</td>\n",
       "    </tr>\n",
       "  </tbody>\n",
       "</table>\n",
       "<p>229590 rows × 10 columns</p>\n",
       "</div>"
      ],
      "text/plain": [
       "        monthly_income  age  experience  hc  resi  ob  pf    hci    hs  \\\n",
       "0        724400.308991   61    3.741440   0     1   0  10   9062  2119   \n",
       "1         54254.886628   72   16.745524   0     1   0   4   7497   628   \n",
       "2        753938.108478   63    4.335981   0     1   1  44   9778  2423   \n",
       "3        257949.201949   45   10.712152   0     1   1  26   6888   897   \n",
       "4         54356.550522   68    9.710970   0     1   1   4  10743  2423   \n",
       "...                ...  ...         ...  ..   ...  ..  ..    ...   ...   \n",
       "229585      881.550562   23    2.543454   0     1   1  27   8636  2119   \n",
       "229586   701681.804626   31    1.454632   0     1   0  26   4961  1579   \n",
       "229587   112037.421775   30    1.376202   0     0   0   7   9570  1941   \n",
       "229588   711464.196162   33   19.273595   0     1   0  48  10395   897   \n",
       "229589    87546.676336   53    2.205832   0     1   0  32   2764  2676   \n",
       "\n",
       "        years_employed  \n",
       "0                    3  \n",
       "1                   14  \n",
       "2                    3  \n",
       "3                    4  \n",
       "4                    9  \n",
       "...                ...  \n",
       "229585               1  \n",
       "229586               0  \n",
       "229587               0  \n",
       "229588               5  \n",
       "229589               0  \n",
       "\n",
       "[229590 rows x 10 columns]"
      ]
     },
     "execution_count": 40,
     "metadata": {},
     "output_type": "execute_result"
    }
   ],
   "source": [
    "X_sm"
   ]
  },
  {
   "cell_type": "code",
   "execution_count": 41,
   "metadata": {},
   "outputs": [
    {
     "data": {
      "text/plain": [
       "RandomForestClassifier(n_jobs=10, random_state=0)"
      ]
     },
     "execution_count": 41,
     "metadata": {},
     "output_type": "execute_result"
    }
   ],
   "source": [
    "from sklearn.ensemble import RandomForestClassifier\n",
    "\n",
    "# You could hyperparameter tune it to get better results..\n",
    "\n",
    "clf = RandomForestClassifier( random_state=0, n_jobs=10)\n",
    "clf.fit(X_sm, y_sm)"
   ]
  },
  {
   "cell_type": "code",
   "execution_count": 42,
   "metadata": {},
   "outputs": [
    {
     "data": {
      "text/plain": [
       "0.9033180010687365"
      ]
     },
     "execution_count": 42,
     "metadata": {},
     "output_type": "execute_result"
    }
   ],
   "source": [
    "from sklearn.metrics import roc_auc_score\n",
    "roc_auc_score(y_val, clf.predict_proba(X_val)[:, 1])"
   ]
  },
  {
   "cell_type": "markdown",
   "metadata": {},
   "source": [
    "## We'll see how well it performs on the test data"
   ]
  },
  {
   "cell_type": "code",
   "execution_count": 43,
   "metadata": {},
   "outputs": [
    {
     "data": {
      "text/html": [
       "<div>\n",
       "<style scoped>\n",
       "    .dataframe tbody tr th:only-of-type {\n",
       "        vertical-align: middle;\n",
       "    }\n",
       "\n",
       "    .dataframe tbody tr th {\n",
       "        vertical-align: top;\n",
       "    }\n",
       "\n",
       "    .dataframe thead th {\n",
       "        text-align: right;\n",
       "    }\n",
       "</style>\n",
       "<table border=\"1\" class=\"dataframe\">\n",
       "  <thead>\n",
       "    <tr style=\"text-align: right;\">\n",
       "      <th></th>\n",
       "      <th>Id</th>\n",
       "      <th>ineligible_for_funds</th>\n",
       "    </tr>\n",
       "  </thead>\n",
       "  <tbody>\n",
       "    <tr>\n",
       "      <th>count</th>\n",
       "      <td>63000.000000</td>\n",
       "      <td>63000.00000</td>\n",
       "    </tr>\n",
       "    <tr>\n",
       "      <th>mean</th>\n",
       "      <td>220500.500000</td>\n",
       "      <td>0.12300</td>\n",
       "    </tr>\n",
       "    <tr>\n",
       "      <th>std</th>\n",
       "      <td>18186.677816</td>\n",
       "      <td>0.32844</td>\n",
       "    </tr>\n",
       "    <tr>\n",
       "      <th>min</th>\n",
       "      <td>189001.000000</td>\n",
       "      <td>0.00000</td>\n",
       "    </tr>\n",
       "    <tr>\n",
       "      <th>25%</th>\n",
       "      <td>204750.750000</td>\n",
       "      <td>0.00000</td>\n",
       "    </tr>\n",
       "    <tr>\n",
       "      <th>50%</th>\n",
       "      <td>220500.500000</td>\n",
       "      <td>0.00000</td>\n",
       "    </tr>\n",
       "    <tr>\n",
       "      <th>75%</th>\n",
       "      <td>236250.250000</td>\n",
       "      <td>0.00000</td>\n",
       "    </tr>\n",
       "    <tr>\n",
       "      <th>max</th>\n",
       "      <td>252000.000000</td>\n",
       "      <td>1.00000</td>\n",
       "    </tr>\n",
       "  </tbody>\n",
       "</table>\n",
       "</div>"
      ],
      "text/plain": [
       "                  Id  ineligible_for_funds\n",
       "count   63000.000000           63000.00000\n",
       "mean   220500.500000               0.12300\n",
       "std     18186.677816               0.32844\n",
       "min    189001.000000               0.00000\n",
       "25%    204750.750000               0.00000\n",
       "50%    220500.500000               0.00000\n",
       "75%    236250.250000               0.00000\n",
       "max    252000.000000               1.00000"
      ]
     },
     "execution_count": 43,
     "metadata": {},
     "output_type": "execute_result"
    }
   ],
   "source": [
    "test_label = pd.read_csv('test_labels_PRIVATE.csv')\n",
    "test_label.describe()"
   ]
  },
  {
   "cell_type": "code",
   "execution_count": 44,
   "metadata": {},
   "outputs": [
    {
     "data": {
      "text/plain": [
       "0.9630566612861603"
      ]
     },
     "execution_count": 44,
     "metadata": {},
     "output_type": "execute_result"
    }
   ],
   "source": [
    "roc_auc_score(test_label.ineligible_for_funds, clf.predict_proba(X_test)[:, 1])"
   ]
  },
  {
   "cell_type": "code",
   "execution_count": 45,
   "metadata": {},
   "outputs": [],
   "source": [
    "sub = pd.DataFrame(columns=['Id', 'ineligible_for_funds'])"
   ]
  },
  {
   "cell_type": "code",
   "execution_count": 46,
   "metadata": {},
   "outputs": [],
   "source": [
    "sub['Id'] = test['Id']"
   ]
  },
  {
   "cell_type": "code",
   "execution_count": 47,
   "metadata": {},
   "outputs": [],
   "source": [
    "sub['ineligible_for_funds'] = clf.predict(X_test)"
   ]
  },
  {
   "cell_type": "code",
   "execution_count": 48,
   "metadata": {},
   "outputs": [
    {
     "data": {
      "text/html": [
       "<div>\n",
       "<style scoped>\n",
       "    .dataframe tbody tr th:only-of-type {\n",
       "        vertical-align: middle;\n",
       "    }\n",
       "\n",
       "    .dataframe tbody tr th {\n",
       "        vertical-align: top;\n",
       "    }\n",
       "\n",
       "    .dataframe thead th {\n",
       "        text-align: right;\n",
       "    }\n",
       "</style>\n",
       "<table border=\"1\" class=\"dataframe\">\n",
       "  <thead>\n",
       "    <tr style=\"text-align: right;\">\n",
       "      <th></th>\n",
       "      <th>Id</th>\n",
       "      <th>ineligible_for_funds</th>\n",
       "    </tr>\n",
       "  </thead>\n",
       "  <tbody>\n",
       "    <tr>\n",
       "      <th>0</th>\n",
       "      <td>189001</td>\n",
       "      <td>0</td>\n",
       "    </tr>\n",
       "    <tr>\n",
       "      <th>1</th>\n",
       "      <td>189002</td>\n",
       "      <td>0</td>\n",
       "    </tr>\n",
       "    <tr>\n",
       "      <th>2</th>\n",
       "      <td>189003</td>\n",
       "      <td>0</td>\n",
       "    </tr>\n",
       "    <tr>\n",
       "      <th>3</th>\n",
       "      <td>189004</td>\n",
       "      <td>1</td>\n",
       "    </tr>\n",
       "    <tr>\n",
       "      <th>4</th>\n",
       "      <td>189005</td>\n",
       "      <td>1</td>\n",
       "    </tr>\n",
       "  </tbody>\n",
       "</table>\n",
       "</div>"
      ],
      "text/plain": [
       "       Id  ineligible_for_funds\n",
       "0  189001                     0\n",
       "1  189002                     0\n",
       "2  189003                     0\n",
       "3  189004                     1\n",
       "4  189005                     1"
      ]
     },
     "execution_count": 48,
     "metadata": {},
     "output_type": "execute_result"
    }
   ],
   "source": [
    "sub.head()"
   ]
  },
  {
   "cell_type": "code",
   "execution_count": 49,
   "metadata": {},
   "outputs": [],
   "source": [
    "sub.to_csv('submission', index=False)"
   ]
  }
 ],
 "metadata": {
  "kernelspec": {
   "display_name": "Python 3",
   "language": "python",
   "name": "python3"
  },
  "language_info": {
   "codemirror_mode": {
    "name": "ipython",
    "version": 3
   },
   "file_extension": ".py",
   "mimetype": "text/x-python",
   "name": "python",
   "nbconvert_exporter": "python",
   "pygments_lexer": "ipython3",
   "version": "3.8.5"
  }
 },
 "nbformat": 4,
 "nbformat_minor": 4
}